{
 "cells": [
  {
   "cell_type": "markdown",
   "metadata": {},
   "source": [
    "# Test the speed of processing code with the CPU vs GPU"
   ]
  },
  {
   "cell_type": "code",
   "execution_count": null,
   "metadata": {},
   "outputs": [],
   "source": [
    "!pip install cudatoolkit\n",
    "!pip install numba"
   ]
  },
  {
   "cell_type": "markdown",
   "metadata": {},
   "source": [
    "### Import libraries"
   ]
  },
  {
   "cell_type": "code",
   "execution_count": null,
   "metadata": {},
   "outputs": [],
   "source": [
    "from numba import jit, cuda\n",
    "import numpy as np\n",
    "from timeit import default_timer as timer"
   ]
  },
  {
   "cell_type": "markdown",
   "metadata": {},
   "source": [
    "### Insert a numpy Array with 10000000 length\n",
    "\n",
    "We are using 2 functions. One using normal function. Another using GPU"
   ]
  },
  {
   "cell_type": "code",
   "execution_count": null,
   "metadata": {},
   "outputs": [],
   "source": [
    "def func(a):                                 \n",
    "    for i in range(10000000): \n",
    "        a[i]+= 1      \n",
    "  \n",
    "@jit                       \n",
    "def func2(a): \n",
    "    for i in range(10000000): \n",
    "        a[i]+= 1"
   ]
  },
  {
   "cell_type": "code",
   "execution_count": 21,
   "metadata": {},
   "outputs": [
    {
     "name": "stdout",
     "output_type": "stream",
     "text": [
      "########## ATTEMPT 1 ########## \n",
      "without GPU: 5.366626300000007\n",
      "with GPU: 0.010916800000131843 \n",
      "\n",
      "########## ATTEMPT 2 ########## \n",
      "without GPU: 5.20782579999991\n",
      "with GPU: 0.010761300000012852 \n",
      "\n",
      "########## ATTEMPT 3 ########## \n",
      "without GPU: 5.314389899999924\n",
      "with GPU: 0.011048100000152772 \n",
      "\n",
      "########## ATTEMPT 4 ########## \n",
      "without GPU: 5.1986663000000135\n",
      "with GPU: 0.010786000000052809 \n",
      "\n",
      "########## ATTEMPT 5 ########## \n",
      "without GPU: 5.252427500000067\n",
      "with GPU: 0.010746999999810214 \n",
      "\n",
      "########## ATTEMPT 6 ########## \n",
      "without GPU: 5.309889500000054\n",
      "with GPU: 0.010223799999948824 \n",
      "\n",
      "########## ATTEMPT 7 ########## \n",
      "without GPU: 5.306866100000207\n",
      "with GPU: 0.010375700000167853 \n",
      "\n",
      "########## ATTEMPT 8 ########## \n",
      "without GPU: 5.219123599999875\n",
      "with GPU: 0.010830000000169093 \n",
      "\n",
      "########## ATTEMPT 9 ########## \n",
      "without GPU: 5.199660300000005\n",
      "with GPU: 0.0112720999998146 \n",
      "\n",
      "########## ATTEMPT 10 ########## \n",
      "without GPU: 5.1944462000001295\n",
      "with GPU: 0.010882400000127745 \n",
      "\n",
      "Total Timer : 53.27848109999991 sec\n"
     ]
    }
   ],
   "source": [
    "num = 0\n",
    "maxi =10\n",
    "\n",
    "start_counter = timer()\n",
    "while (num <maxi):\n",
    "    if __name__==\"__main__\": \n",
    "        n = 10000000                            \n",
    "        a = np.ones(n, dtype = np.float64) \n",
    "        b = np.ones(n, dtype = np.float32) \n",
    "        #CPU test\n",
    "        start = timer() \n",
    "        func(a) \n",
    "        print(\"########## ATTEMPT {} ##########\".format(num+1),\"\\nwithout GPU:\", timer()-start)     \n",
    "        #GPU test\n",
    "        start = timer() \n",
    "        func2(a) \n",
    "        print(\"with GPU:\", timer()-start, \"\\n\") \n",
    "        \n",
    "        num += 1\n",
    "        if num == maxi : print(\"Total Timer : {} sec\".format(timer()-start_counter))"
   ]
  },
  {
   "cell_type": "code",
   "execution_count": null,
   "metadata": {},
   "outputs": [],
   "source": []
  }
 ],
 "metadata": {
  "kernelspec": {
   "display_name": "Python 3",
   "language": "python",
   "name": "python3"
  },
  "language_info": {
   "codemirror_mode": {
    "name": "ipython",
    "version": 3
   },
   "file_extension": ".py",
   "mimetype": "text/x-python",
   "name": "python",
   "nbconvert_exporter": "python",
   "pygments_lexer": "ipython3",
   "version": "3.7.6"
  }
 },
 "nbformat": 4,
 "nbformat_minor": 4
}
