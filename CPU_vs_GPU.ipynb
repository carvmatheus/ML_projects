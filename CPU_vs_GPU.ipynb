{
 "cells": [
  {
   "cell_type": "markdown",
   "metadata": {},
   "source": [
    "# Test the speed of processing code with the CPU vs GPU"
   ]
  },
  {
   "cell_type": "code",
   "execution_count": null,
   "metadata": {},
   "outputs": [],
   "source": [
    "!pip install cudatoolkit\n",
    "!pip install numba"
   ]
  },
  {
   "cell_type": "markdown",
   "metadata": {},
   "source": [
    "### Import libraries"
   ]
  },
  {
   "cell_type": "code",
   "execution_count": null,
   "metadata": {},
   "outputs": [],
   "source": [
    "from numba import jit, cuda\n",
    "import numpy as np\n",
    "from timeit import default_timer as timer"
   ]
  },
  {
   "cell_type": "markdown",
   "metadata": {},
   "source": [
    "### Insert a numpy Array with 10000000 length\n",
    "\n",
    "We are using 2 functions. One using normal function. Another using GPU"
   ]
  },
  {
   "cell_type": "code",
   "execution_count": null,
   "metadata": {},
   "outputs": [],
   "source": [
    "def func(a):                                 \n",
    "    for i in range(10000000): \n",
    "        a[i]+= 1      \n",
    "  \n",
    "@jit                       \n",
    "def func2(a): \n",
    "    for i in range(10000000): \n",
    "        a[i]+= 1"
   ]
  },
  {
   "cell_type": "code",
   "execution_count": 19,
   "metadata": {},
   "outputs": [
    {
     "name": "stdout",
     "output_type": "stream",
     "text": [
      "########## ATTEMPT 1 ########## \n",
      "without GPU: 5.473031300000002\n",
      "with GPU: 0.01130220000004556 \n",
      "\n",
      "########## ATTEMPT 2 ########## \n",
      "without GPU: 5.241653499999984\n",
      "with GPU: 0.010807699999986653 \n",
      "\n",
      "Total Timer : 10.86366350000003 ms\n"
     ]
    }
   ],
   "source": [
    "num = 0\n",
    "maxi =2\n",
    "\n",
    "start_counter = timer()\n",
    "while (num <maxi):\n",
    "    if __name__==\"__main__\": \n",
    "        n = 10000000                            \n",
    "        a = np.ones(n, dtype = np.float64) \n",
    "        b = np.ones(n, dtype = np.float32) \n",
    "        #CPU test\n",
    "        start = timer() \n",
    "        func(a) \n",
    "        print(\"########## ATTEMPT {} ##########\".format(num+1),\"\\nwithout GPU:\", timer()-start)     \n",
    "        #GPU test\n",
    "        start = timer() \n",
    "        func2(a) \n",
    "        print(\"with GPU:\", timer()-start, \"\\n\") \n",
    "        \n",
    "        num += 1\n",
    "        if num == maxi : print(\"Total Timer : {} ms\".format(timer()-start_counter))"
   ]
  },
  {
   "cell_type": "code",
   "execution_count": null,
   "metadata": {},
   "outputs": [],
   "source": []
  }
 ],
 "metadata": {
  "kernelspec": {
   "display_name": "Python 3",
   "language": "python",
   "name": "python3"
  },
  "language_info": {
   "codemirror_mode": {
    "name": "ipython",
    "version": 3
   },
   "file_extension": ".py",
   "mimetype": "text/x-python",
   "name": "python",
   "nbconvert_exporter": "python",
   "pygments_lexer": "ipython3",
   "version": "3.7.6"
  }
 },
 "nbformat": 4,
 "nbformat_minor": 4
}
